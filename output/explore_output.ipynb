{
 "cells": [
  {
   "cell_type": "code",
   "execution_count": 32,
   "id": "bcf10a0e",
   "metadata": {},
   "outputs": [],
   "source": [
    "import pandas as pd\n",
    "import numpy as np\n",
    "import matplotlib.pyplot as plt\n",
    "import pickle"
   ]
  },
  {
   "cell_type": "code",
   "execution_count": 3,
   "id": "b1f994a4",
   "metadata": {},
   "outputs": [
    {
     "data": {
      "text/html": [
       "<div>\n",
       "<style scoped>\n",
       "    .dataframe tbody tr th:only-of-type {\n",
       "        vertical-align: middle;\n",
       "    }\n",
       "\n",
       "    .dataframe tbody tr th {\n",
       "        vertical-align: top;\n",
       "    }\n",
       "\n",
       "    .dataframe thead th {\n",
       "        text-align: right;\n",
       "    }\n",
       "</style>\n",
       "<table border=\"1\" class=\"dataframe\">\n",
       "  <thead>\n",
       "    <tr style=\"text-align: right;\">\n",
       "      <th></th>\n",
       "      <th>student</th>\n",
       "      <th>filename</th>\n",
       "      <th>scores</th>\n",
       "      <th>feedback</th>\n",
       "    </tr>\n",
       "  </thead>\n",
       "  <tbody>\n",
       "    <tr>\n",
       "      <th>0</th>\n",
       "      <td>aniello--elizabeth</td>\n",
       "      <td>anielloelizabeth_8509_715930_Personal Statemen...</td>\n",
       "      <td>{\"Accuracy\": 3, \"Argument\": 3, \"Conclusions &amp; ...</td>\n",
       "      <td>{\"Accuracy\": \"The essay demonstrates a deep un...</td>\n",
       "    </tr>\n",
       "  </tbody>\n",
       "</table>\n",
       "</div>"
      ],
      "text/plain": [
       "              student                                           filename  \\\n",
       "0  aniello--elizabeth  anielloelizabeth_8509_715930_Personal Statemen...   \n",
       "\n",
       "                                              scores  \\\n",
       "0  {\"Accuracy\": 3, \"Argument\": 3, \"Conclusions & ...   \n",
       "\n",
       "                                            feedback  \n",
       "0  {\"Accuracy\": \"The essay demonstrates a deep un...  "
      ]
     },
     "execution_count": 3,
     "metadata": {},
     "output_type": "execute_result"
    }
   ],
   "source": [
    "data = pd.read_csv('grading_results.csv')\n",
    "data.head()"
   ]
  },
  {
   "cell_type": "code",
   "execution_count": 19,
   "id": "1284793f",
   "metadata": {},
   "outputs": [
    {
     "data": {
      "text/html": [
       "<div>\n",
       "<style scoped>\n",
       "    .dataframe tbody tr th:only-of-type {\n",
       "        vertical-align: middle;\n",
       "    }\n",
       "\n",
       "    .dataframe tbody tr th {\n",
       "        vertical-align: top;\n",
       "    }\n",
       "\n",
       "    .dataframe thead th {\n",
       "        text-align: right;\n",
       "    }\n",
       "</style>\n",
       "<table border=\"1\" class=\"dataframe\">\n",
       "  <thead>\n",
       "    <tr style=\"text-align: right;\">\n",
       "      <th></th>\n",
       "      <th>scores</th>\n",
       "    </tr>\n",
       "  </thead>\n",
       "  <tbody>\n",
       "    <tr>\n",
       "      <th>0</th>\n",
       "      <td>{\"Accuracy\": 3, \"Argument\": 3, \"Conclusions &amp; ...</td>\n",
       "    </tr>\n",
       "  </tbody>\n",
       "</table>\n",
       "</div>"
      ],
      "text/plain": [
       "                                              scores\n",
       "0  {\"Accuracy\": 3, \"Argument\": 3, \"Conclusions & ..."
      ]
     },
     "execution_count": 19,
     "metadata": {},
     "output_type": "execute_result"
    }
   ],
   "source": [
    "df = pd.DataFrame(data[['scores']])\n",
    "df.head()"
   ]
  },
  {
   "cell_type": "code",
   "execution_count": 35,
   "id": "66e47a12",
   "metadata": {},
   "outputs": [],
   "source": [
    "# Load your pickled results\n",
    "with open(\"grading_results.pkl\", \"rb\") as f:\n",
    "    data = pickle.load(f)\n",
    "\n",
    "# Convert to DataFrame\n",
    "df = pd.DataFrame(data)"
   ]
  },
  {
   "cell_type": "code",
   "execution_count": 36,
   "id": "251875ca",
   "metadata": {},
   "outputs": [
    {
     "data": {
      "text/html": [
       "<div>\n",
       "<style scoped>\n",
       "    .dataframe tbody tr th:only-of-type {\n",
       "        vertical-align: middle;\n",
       "    }\n",
       "\n",
       "    .dataframe tbody tr th {\n",
       "        vertical-align: top;\n",
       "    }\n",
       "\n",
       "    .dataframe thead th {\n",
       "        text-align: right;\n",
       "    }\n",
       "</style>\n",
       "<table border=\"1\" class=\"dataframe\">\n",
       "  <thead>\n",
       "    <tr style=\"text-align: right;\">\n",
       "      <th></th>\n",
       "      <th>student</th>\n",
       "      <th>filename</th>\n",
       "      <th>Accuracy_score</th>\n",
       "      <th>Accuracy_feedback</th>\n",
       "      <th>Argument_score</th>\n",
       "      <th>Argument_feedback</th>\n",
       "      <th>Conclusions &amp; Extensions_score</th>\n",
       "      <th>Conclusions &amp; Extensions_feedback</th>\n",
       "      <th>Mechanics_score</th>\n",
       "      <th>Mechanics_feedback</th>\n",
       "    </tr>\n",
       "  </thead>\n",
       "  <tbody>\n",
       "    <tr>\n",
       "      <th>0</th>\n",
       "      <td>aniello--elizabeth</td>\n",
       "      <td>anielloelizabeth_8509_715930_Personal Statemen...</td>\n",
       "      <td>3</td>\n",
       "      <td>The essay demonstrates a strong understanding ...</td>\n",
       "      <td>2</td>\n",
       "      <td>The essay presents logically sequenced ideas, ...</td>\n",
       "      <td>3</td>\n",
       "      <td>The essay effectively explains how the SLO was...</td>\n",
       "      <td>3</td>\n",
       "      <td>The essay is well-written with no noticeable e...</td>\n",
       "    </tr>\n",
       "  </tbody>\n",
       "</table>\n",
       "</div>"
      ],
      "text/plain": [
       "              student                                           filename  \\\n",
       "0  aniello--elizabeth  anielloelizabeth_8509_715930_Personal Statemen...   \n",
       "\n",
       "   Accuracy_score                                  Accuracy_feedback  \\\n",
       "0               3  The essay demonstrates a strong understanding ...   \n",
       "\n",
       "   Argument_score                                  Argument_feedback  \\\n",
       "0               2  The essay presents logically sequenced ideas, ...   \n",
       "\n",
       "   Conclusions & Extensions_score  \\\n",
       "0                               3   \n",
       "\n",
       "                   Conclusions & Extensions_feedback  Mechanics_score  \\\n",
       "0  The essay effectively explains how the SLO was...                3   \n",
       "\n",
       "                                  Mechanics_feedback  \n",
       "0  The essay is well-written with no noticeable e...  "
      ]
     },
     "execution_count": 36,
     "metadata": {},
     "output_type": "execute_result"
    }
   ],
   "source": [
    "df"
   ]
  },
  {
   "cell_type": "code",
   "execution_count": null,
   "id": "6c42d21c",
   "metadata": {},
   "outputs": [],
   "source": []
  }
 ],
 "metadata": {
  "kernelspec": {
   "display_name": "erdos_summer_2025",
   "language": "python",
   "name": "python3"
  },
  "language_info": {
   "codemirror_mode": {
    "name": "ipython",
    "version": 3
   },
   "file_extension": ".py",
   "mimetype": "text/x-python",
   "name": "python",
   "nbconvert_exporter": "python",
   "pygments_lexer": "ipython3",
   "version": "3.12.10"
  }
 },
 "nbformat": 4,
 "nbformat_minor": 5
}
